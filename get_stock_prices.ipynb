{
 "cells": [
  {
   "cell_type": "markdown",
   "metadata": {},
   "source": [
    "### Get stock prices data from polygon API"
   ]
  },
  {
   "cell_type": "code",
   "execution_count": 1,
   "metadata": {},
   "outputs": [],
   "source": [
    "#!pip install -r requirements.txt"
   ]
  },
  {
   "cell_type": "code",
   "execution_count": 2,
   "metadata": {},
   "outputs": [],
   "source": [
    "from stockify import * \n",
    "import datetime as dt \n",
    "from polygon import RESTClient\n",
    "from polygon.rest import models\n",
    "from http import HTTPStatus\n",
    "    \n",
    "API_key = \"\"\n",
    "client = RESTClient(API_key)"
   ]
  },
  {
   "cell_type": "code",
   "execution_count": 3,
   "metadata": {},
   "outputs": [],
   "source": [
    "## Put the API key (if we do pay) into ENV_VARS\n",
    "current_date = dt.datetime.now().date()\n",
    "stocks_tickers = get_list_stocks_tickers(text_file_name='stocks_list',\n",
    "                                         only_stock_tickers=True)\n",
    "\n",
    "stocks_requirments = get_list_stocks_tickers(text_file_name='stocks_list',\n",
    "                                         only_stock_tickers=False)\n",
    "\n",
    "dfs = []\n",
    "\n",
    "stocks_tickers=['ARR']\n",
    "for st in stocks_tickers:\n",
    "    \n",
    "    #try:\n",
    "        raw_response = get_p_process_by_ticker(API_key,\n",
    "                                            client,\n",
    "                                            st,\n",
    "                                            get_daily_time_buckets(max_lookback_years=100,\n",
    "                                                                    current_is_timestamp=False,\n",
    "                                                                    frequency='daily',\n",
    "                                                                    include_weekend=False),\n",
    "                                            stock_prices_frequency= 'daily')\n",
    "        \n",
    "        df = get_jsonList_prices_into_dataframe(get_serialized_price_raw_into_json(raw_response,st),\n",
    "                                    ['close'])\n",
    "    # If exceed request per minute\n",
    "    #except (BadResponse) as e:\n",
    "    #    continue\n",
    "    #    print(e)\n",
    "\n",
    "        dfs.append(df)\n",
    "\n",
    "if len(dfs)>0: \n",
    "    dfs = pd.concat(dfs)"
   ]
  },
  {
   "cell_type": "code",
   "execution_count": 4,
   "metadata": {},
   "outputs": [
    {
     "data": {
      "text/plain": [
       "'2020-12-28 05:00:00'"
      ]
     },
     "execution_count": 4,
     "metadata": {},
     "output_type": "execute_result"
    }
   ],
   "source": [
    "dfs.converted_utc_timestamp.min()"
   ]
  },
  {
   "cell_type": "code",
   "execution_count": 9,
   "metadata": {},
   "outputs": [
    {
     "ename": "BadResponse",
     "evalue": "{\"status\":\"ERROR\",\"request_id\":\"ad74ed1b1b60840ea0df4422dfaebd81\",\"error\":\"You've exceeded the maximum requests per minute, please wait or upgrade your subscription to continue. https://polygon.io/pricing\"}",
     "output_type": "error",
     "traceback": [
      "\u001b[0;31m---------------------------------------------------------------------------\u001b[0m",
      "\u001b[0;31mBadResponse\u001b[0m                               Traceback (most recent call last)",
      "Cell \u001b[0;32mIn [9], line 3\u001b[0m\n\u001b[1;32m      1\u001b[0m items \u001b[39m=\u001b[39m client\u001b[39m.\u001b[39mlist_dividends(ticker\u001b[39m=\u001b[39m\u001b[39m'\u001b[39m\u001b[39mARR\u001b[39m\u001b[39m'\u001b[39m,pay_date_gt\u001b[39m=\u001b[39m\u001b[39m'\u001b[39m\u001b[39m2022-08-01\u001b[39m\u001b[39m'\u001b[39m)\n\u001b[1;32m      2\u001b[0m count\u001b[39m=\u001b[39m\u001b[39m0\u001b[39m\n\u001b[0;32m----> 3\u001b[0m \u001b[39mfor\u001b[39;00m item \u001b[39min\u001b[39;00m items:\n\u001b[1;32m      4\u001b[0m     count \u001b[39m=\u001b[39m count\u001b[39m+\u001b[39m\u001b[39m1\u001b[39m\n",
      "File \u001b[0;32m/opt/homebrew/lib/python3.10/site-packages/polygon/rest/base.py:177\u001b[0m, in \u001b[0;36mBaseClient._paginate_iter\u001b[0;34m(self, path, params, deserializer, result_key, options)\u001b[0m\n\u001b[1;32m    168\u001b[0m \u001b[39mdef\u001b[39;00m \u001b[39m_paginate_iter\u001b[39m(\n\u001b[1;32m    169\u001b[0m     \u001b[39mself\u001b[39m,\n\u001b[1;32m    170\u001b[0m     path: \u001b[39mstr\u001b[39m,\n\u001b[0;32m   (...)\u001b[0m\n\u001b[1;32m    174\u001b[0m     options: Optional[RequestOptionBuilder] \u001b[39m=\u001b[39m \u001b[39mNone\u001b[39;00m,\n\u001b[1;32m    175\u001b[0m ):\n\u001b[1;32m    176\u001b[0m     \u001b[39mwhile\u001b[39;00m \u001b[39mTrue\u001b[39;00m:\n\u001b[0;32m--> 177\u001b[0m         resp \u001b[39m=\u001b[39m \u001b[39mself\u001b[39;49m\u001b[39m.\u001b[39;49m_get(\n\u001b[1;32m    178\u001b[0m             path\u001b[39m=\u001b[39;49mpath,\n\u001b[1;32m    179\u001b[0m             params\u001b[39m=\u001b[39;49mparams,\n\u001b[1;32m    180\u001b[0m             deserializer\u001b[39m=\u001b[39;49mdeserializer,\n\u001b[1;32m    181\u001b[0m             result_key\u001b[39m=\u001b[39;49mresult_key,\n\u001b[1;32m    182\u001b[0m             raw\u001b[39m=\u001b[39;49m\u001b[39mTrue\u001b[39;49;00m,\n\u001b[1;32m    183\u001b[0m             options\u001b[39m=\u001b[39;49moptions,\n\u001b[1;32m    184\u001b[0m         )\n\u001b[1;32m    185\u001b[0m         decoded \u001b[39m=\u001b[39m \u001b[39mself\u001b[39m\u001b[39m.\u001b[39m_decode(resp)\n\u001b[1;32m    186\u001b[0m         \u001b[39mfor\u001b[39;00m t \u001b[39min\u001b[39;00m decoded[result_key]:\n",
      "File \u001b[0;32m/opt/homebrew/lib/python3.10/site-packages/polygon/rest/base.py:93\u001b[0m, in \u001b[0;36mBaseClient._get\u001b[0;34m(self, path, params, result_key, deserializer, raw, options)\u001b[0m\n\u001b[1;32m     84\u001b[0m resp \u001b[39m=\u001b[39m \u001b[39mself\u001b[39m\u001b[39m.\u001b[39mclient\u001b[39m.\u001b[39mrequest(\n\u001b[1;32m     85\u001b[0m     \u001b[39m\"\u001b[39m\u001b[39mGET\u001b[39m\u001b[39m\"\u001b[39m,\n\u001b[1;32m     86\u001b[0m     \u001b[39mself\u001b[39m\u001b[39m.\u001b[39mBASE \u001b[39m+\u001b[39m path,\n\u001b[0;32m   (...)\u001b[0m\n\u001b[1;32m     89\u001b[0m     headers\u001b[39m=\u001b[39m\u001b[39mself\u001b[39m\u001b[39m.\u001b[39m_concat_headers(option\u001b[39m.\u001b[39mheaders),\n\u001b[1;32m     90\u001b[0m )\n\u001b[1;32m     92\u001b[0m \u001b[39mif\u001b[39;00m resp\u001b[39m.\u001b[39mstatus \u001b[39m!=\u001b[39m \u001b[39m200\u001b[39m:\n\u001b[0;32m---> 93\u001b[0m     \u001b[39mraise\u001b[39;00m BadResponse(resp\u001b[39m.\u001b[39mdata\u001b[39m.\u001b[39mdecode(\u001b[39m\"\u001b[39m\u001b[39mutf-8\u001b[39m\u001b[39m\"\u001b[39m))\n\u001b[1;32m     95\u001b[0m \u001b[39mif\u001b[39;00m raw:\n\u001b[1;32m     96\u001b[0m     \u001b[39mreturn\u001b[39;00m resp\n",
      "\u001b[0;31mBadResponse\u001b[0m: {\"status\":\"ERROR\",\"request_id\":\"ad74ed1b1b60840ea0df4422dfaebd81\",\"error\":\"You've exceeded the maximum requests per minute, please wait or upgrade your subscription to continue. https://polygon.io/pricing\"}"
     ]
    }
   ],
   "source": [
    "items = client.list_dividends(ticker='ARR',pay_date_gt='2022-08-01')\n",
    "count=0\n",
    "for item in items:\n",
    "    count = count+1"
   ]
  },
  {
   "cell_type": "code",
   "execution_count": null,
   "metadata": {},
   "outputs": [],
   "source": [
    "def get_serialized_dividends_raw_resp(self,\n",
    "                            ticker:str):\n",
    "    ''' \n",
    "    Serializes a row raw response, including \n",
    "    the specified stock ticker for dividends.\n",
    "    '''\n",
    "    \n",
    "    import json\n",
    "    \n",
    "    return {\"stock\":ticker,\n",
    "                \"Dividend\": {\n",
    "                        \"cash_amount\": self.cash_amount,\n",
    "                        \"declaration_date\": self.declaration_date,\n",
    "                        \"dividend_type\": self.dividend_type,\n",
    "                        \"ex_dividend_date\": self.ex_dividend_date,\n",
    "                        \"frequency\": self.frequency,\n",
    "                        \"pay_date\": self.pay_date,\n",
    "                        \"record_date\": self.record_date,\n",
    "                }\n",
    "         }"
   ]
  },
  {
   "cell_type": "code",
   "execution_count": null,
   "metadata": {},
   "outputs": [
    {
     "ename": "BadResponse",
     "evalue": "{\"status\":\"ERROR\",\"request_id\":\"59104d367d5edb2c0927da9f9cd867d8\",\"error\":\"You've exceeded the maximum requests per minute, please wait or upgrade your subscription to continue. https://polygon.io/pricing\"}",
     "output_type": "error",
     "traceback": [
      "\u001b[0;31m---------------------------------------------------------------------------\u001b[0m",
      "\u001b[0;31mBadResponse\u001b[0m                               Traceback (most recent call last)",
      "Cell \u001b[0;32mIn [91], line 1\u001b[0m\n\u001b[0;32m----> 1\u001b[0m a \u001b[39m=\u001b[39m get_serialized_price_raw_into_json(items,\u001b[39m'\u001b[39;49m\u001b[39mARR\u001b[39;49m\u001b[39m'\u001b[39;49m)\n",
      "Cell \u001b[0;32mIn [26], line 11\u001b[0m, in \u001b[0;36mget_serialized_price_raw_into_json\u001b[0;34m(raw_response, ticker)\u001b[0m\n\u001b[1;32m      7\u001b[0m \u001b[39mimport\u001b[39;00m \u001b[39mjson\u001b[39;00m\n\u001b[1;32m      9\u001b[0m jsonList \u001b[39m=\u001b[39m []\n\u001b[0;32m---> 11\u001b[0m \u001b[39mfor\u001b[39;00m raw \u001b[39min\u001b[39;00m raw_response:\n\u001b[1;32m     12\u001b[0m     serie \u001b[39m=\u001b[39m get_serialized_dividends_raw_resp(raw,ticker)\n\u001b[1;32m     14\u001b[0m     jsonDict \u001b[39m=\u001b[39m json\u001b[39m.\u001b[39mloads(json\u001b[39m.\u001b[39mdumps(serie))\n",
      "File \u001b[0;32m/opt/homebrew/lib/python3.10/site-packages/polygon/rest/base.py:177\u001b[0m, in \u001b[0;36mBaseClient._paginate_iter\u001b[0;34m(self, path, params, deserializer, result_key, options)\u001b[0m\n\u001b[1;32m    168\u001b[0m \u001b[39mdef\u001b[39;00m \u001b[39m_paginate_iter\u001b[39m(\n\u001b[1;32m    169\u001b[0m     \u001b[39mself\u001b[39m,\n\u001b[1;32m    170\u001b[0m     path: \u001b[39mstr\u001b[39m,\n\u001b[0;32m   (...)\u001b[0m\n\u001b[1;32m    174\u001b[0m     options: Optional[RequestOptionBuilder] \u001b[39m=\u001b[39m \u001b[39mNone\u001b[39;00m,\n\u001b[1;32m    175\u001b[0m ):\n\u001b[1;32m    176\u001b[0m     \u001b[39mwhile\u001b[39;00m \u001b[39mTrue\u001b[39;00m:\n\u001b[0;32m--> 177\u001b[0m         resp \u001b[39m=\u001b[39m \u001b[39mself\u001b[39;49m\u001b[39m.\u001b[39;49m_get(\n\u001b[1;32m    178\u001b[0m             path\u001b[39m=\u001b[39;49mpath,\n\u001b[1;32m    179\u001b[0m             params\u001b[39m=\u001b[39;49mparams,\n\u001b[1;32m    180\u001b[0m             deserializer\u001b[39m=\u001b[39;49mdeserializer,\n\u001b[1;32m    181\u001b[0m             result_key\u001b[39m=\u001b[39;49mresult_key,\n\u001b[1;32m    182\u001b[0m             raw\u001b[39m=\u001b[39;49m\u001b[39mTrue\u001b[39;49;00m,\n\u001b[1;32m    183\u001b[0m             options\u001b[39m=\u001b[39;49moptions,\n\u001b[1;32m    184\u001b[0m         )\n\u001b[1;32m    185\u001b[0m         decoded \u001b[39m=\u001b[39m \u001b[39mself\u001b[39m\u001b[39m.\u001b[39m_decode(resp)\n\u001b[1;32m    186\u001b[0m         \u001b[39mfor\u001b[39;00m t \u001b[39min\u001b[39;00m decoded[result_key]:\n",
      "File \u001b[0;32m/opt/homebrew/lib/python3.10/site-packages/polygon/rest/base.py:93\u001b[0m, in \u001b[0;36mBaseClient._get\u001b[0;34m(self, path, params, result_key, deserializer, raw, options)\u001b[0m\n\u001b[1;32m     84\u001b[0m resp \u001b[39m=\u001b[39m \u001b[39mself\u001b[39m\u001b[39m.\u001b[39mclient\u001b[39m.\u001b[39mrequest(\n\u001b[1;32m     85\u001b[0m     \u001b[39m\"\u001b[39m\u001b[39mGET\u001b[39m\u001b[39m\"\u001b[39m,\n\u001b[1;32m     86\u001b[0m     \u001b[39mself\u001b[39m\u001b[39m.\u001b[39mBASE \u001b[39m+\u001b[39m path,\n\u001b[0;32m   (...)\u001b[0m\n\u001b[1;32m     89\u001b[0m     headers\u001b[39m=\u001b[39m\u001b[39mself\u001b[39m\u001b[39m.\u001b[39m_concat_headers(option\u001b[39m.\u001b[39mheaders),\n\u001b[1;32m     90\u001b[0m )\n\u001b[1;32m     92\u001b[0m \u001b[39mif\u001b[39;00m resp\u001b[39m.\u001b[39mstatus \u001b[39m!=\u001b[39m \u001b[39m200\u001b[39m:\n\u001b[0;32m---> 93\u001b[0m     \u001b[39mraise\u001b[39;00m BadResponse(resp\u001b[39m.\u001b[39mdata\u001b[39m.\u001b[39mdecode(\u001b[39m\"\u001b[39m\u001b[39mutf-8\u001b[39m\u001b[39m\"\u001b[39m))\n\u001b[1;32m     95\u001b[0m \u001b[39mif\u001b[39;00m raw:\n\u001b[1;32m     96\u001b[0m     \u001b[39mreturn\u001b[39;00m resp\n",
      "\u001b[0;31mBadResponse\u001b[0m: {\"status\":\"ERROR\",\"request_id\":\"59104d367d5edb2c0927da9f9cd867d8\",\"error\":\"You've exceeded the maximum requests per minute, please wait or upgrade your subscription to continue. https://polygon.io/pricing\"}"
     ]
    }
   ],
   "source": [
    "a = get_serialized_price_raw_into_json(items,'ARR')"
   ]
  },
  {
   "cell_type": "code",
   "execution_count": 6,
   "metadata": {},
   "outputs": [
    {
     "ename": "NameError",
     "evalue": "name 'a' is not defined",
     "output_type": "error",
     "traceback": [
      "\u001b[0;31m---------------------------------------------------------------------------\u001b[0m",
      "\u001b[0;31mNameError\u001b[0m                                 Traceback (most recent call last)",
      "Cell \u001b[0;32mIn [6], line 1\u001b[0m\n\u001b[0;32m----> 1\u001b[0m a\n",
      "\u001b[0;31mNameError\u001b[0m: name 'a' is not defined"
     ]
    }
   ],
   "source": [
    "a "
   ]
  },
  {
   "cell_type": "code",
   "execution_count": null,
   "metadata": {},
   "outputs": [],
   "source": [
    "def get_serialized_price_raw_into_json(raw_response:list,\n",
    "                                ticker:str):\n",
    "    ''' \n",
    "    Takes a dump of Agg objects list and returns each row as a json\n",
    "    in a jsonList.\n",
    "    '''\n",
    "    import json\n",
    "    \n",
    "    jsonList = []\n",
    "    \n",
    "    for raw in raw_response:\n",
    "        serie = get_serialized_dividends_raw_resp(raw,ticker)\n",
    "        \n",
    "        jsonDict = json.loads(json.dumps(serie))\n",
    "        \n",
    "        jsonList.append(jsonDict)\n",
    "        \n",
    "    return jsonList"
   ]
  },
  {
   "cell_type": "code",
   "execution_count": null,
   "metadata": {},
   "outputs": [
    {
     "data": {
      "text/plain": [
       "[]"
      ]
     },
     "execution_count": 36,
     "metadata": {},
     "output_type": "execute_result"
    }
   ],
   "source": [
    "get_serialized_price_raw_into_json(items,'ARR')"
   ]
  },
  {
   "cell_type": "code",
   "execution_count": null,
   "metadata": {},
   "outputs": [],
   "source": [
    "for r in items:\n",
    "    print(next(r))"
   ]
  },
  {
   "cell_type": "code",
   "execution_count": null,
   "metadata": {},
   "outputs": [],
   "source": []
  }
 ],
 "metadata": {
  "kernelspec": {
   "display_name": "Python 3.10.8 64-bit",
   "language": "python",
   "name": "python3"
  },
  "language_info": {
   "codemirror_mode": {
    "name": "ipython",
    "version": 3
   },
   "file_extension": ".py",
   "mimetype": "text/x-python",
   "name": "python",
   "nbconvert_exporter": "python",
   "pygments_lexer": "ipython3",
   "version": "3.10.8"
  },
  "orig_nbformat": 4,
  "vscode": {
   "interpreter": {
    "hash": "b0fa6594d8f4cbf19f97940f81e996739fb7646882a419484c72d19e05852a7e"
   }
  }
 },
 "nbformat": 4,
 "nbformat_minor": 2
}
