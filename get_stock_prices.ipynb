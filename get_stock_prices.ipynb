{
 "cells": [
  {
   "cell_type": "markdown",
   "metadata": {},
   "source": [
    "### Get stock prices data from polygon API"
   ]
  },
  {
   "cell_type": "code",
   "execution_count": null,
   "metadata": {},
   "outputs": [],
   "source": [
    "#pip install polygon-api-client"
   ]
  },
  {
   "cell_type": "code",
   "execution_count": null,
   "metadata": {},
   "outputs": [],
   "source": [
    "from polygon import RESTClient\n",
    "from polygon.rest import models\n",
    "import datetime as dt\n",
    "import pandas as pd\n",
    "\n",
    "## Put the API key (if we do pay) into ENV_VARS\n",
    "\n",
    "API_key = \"PuJHla6_U_GDHcNE3XSpk7L2gCCpdJ9J\"\n",
    "client = RESTClient(API_key)\n",
    "\n",
    "client = RESTClient(API_key)\n",
    "\n",
    "current_date = dt.datetime.now().date()\n",
    "\n",
    "def get_daily_time_buckets(max_lookback_years:int,\n",
    "                           current_is_timestamp:bool,\n",
    "                           frequency:str,\n",
    "                           include_weekend:bool \n",
    "                           ) -> pd.Series: \n",
    "    \n",
    "    ''' \n",
    "    Get a range of discrete time points, given a current\n",
    "    time as final data point. Frequency: daily or monthly.\n",
    "    '''\n",
    "    \n",
    "    import pandas as pd \n",
    "    \n",
    "    if current_is_timestamp:\n",
    "        current = dt.datetime.now()\n",
    "    else:\n",
    "        current = dt.datetime.now().date()\n",
    "        \n",
    "    if frequency == 'daily' and include_weekend == True:\n",
    "        freq = 'D'\n",
    "    \n",
    "    elif frequency == 'daily' and include_weekend == False: \n",
    "        freq = 'B'\n",
    "    \n",
    "    elif frequency == 'monthly' and include_weekend == False: \n",
    "        freq = 'BM'\n",
    "        \n",
    "    elif frequency == 'monthly' and include_weekend == True: \n",
    "        freq = 'M'\n",
    "        \n",
    "    if frequency =='daily':\n",
    "        periods = 365 * max_lookback_years\n",
    "        \n",
    "    elif frequency =='monthly':\n",
    "        periods = 12 * max_lookback_years\n",
    "    \n",
    "    \n",
    "    time_buckets = pd.date_range(start=None, \n",
    "                                 end=current, \n",
    "                                 periods=periods, \n",
    "                                 freq=freq,\n",
    "                                 tz=None, \n",
    "                                 inclusive='both') \n",
    "    return time_buckets \n"
   ]
  },
  {
   "cell_type": "code",
   "execution_count": null,
   "metadata": {},
   "outputs": [],
   "source": [
    "\n",
    "def get_p_process_by_ticker(ticker:str,\n",
    "                            timestamps_list:list):\n",
    "    \n",
    "    '''\n",
    "    Getting the price by specified ticker\n",
    "    '''\n",
    "\n",
    "    for t in timestamps_list:\n",
    "        \n",
    "        aggs = client.get_aggs(\n",
    "        ticker,\n",
    "        1,\n",
    "        \"day\",\n",
    "        \"2022-04-04\",\n",
    "        \"2022-04-04\",\n",
    "    )\n",
    "    \n",
    "    return aggs "
   ]
  },
  {
   "cell_type": "code",
   "execution_count": null,
   "metadata": {},
   "outputs": [],
   "source": [
    "get_p_process_by_ticker(\"AAPL\",get_daily_time_buckets(max_lookback_years=2,\n",
    "                                                      current_is_timestamp=False,\n",
    "                                                      frequency='daily',\n",
    "                                                      include_weekend=False))"
   ]
  }
 ],
 "metadata": {
  "kernelspec": {
   "display_name": "Python 3.10.8 64-bit",
   "language": "python",
   "name": "python3"
  },
  "language_info": {
   "codemirror_mode": {
    "name": "ipython",
    "version": 3
   },
   "file_extension": ".py",
   "mimetype": "text/x-python",
   "name": "python",
   "nbconvert_exporter": "python",
   "pygments_lexer": "ipython3",
   "version": "3.10.8"
  },
  "orig_nbformat": 4,
  "vscode": {
   "interpreter": {
    "hash": "b0fa6594d8f4cbf19f97940f81e996739fb7646882a419484c72d19e05852a7e"
   }
  }
 },
 "nbformat": 4,
 "nbformat_minor": 2
}
