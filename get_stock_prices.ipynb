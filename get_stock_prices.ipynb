{
 "cells": [
  {
   "cell_type": "markdown",
   "metadata": {},
   "source": [
    "### Get stock prices data from polygon API"
   ]
  },
  {
   "cell_type": "code",
   "execution_count": 5,
   "metadata": {},
   "outputs": [],
   "source": [
    "#!pip install -r requirements.txt"
   ]
  },
  {
   "cell_type": "code",
   "execution_count": 6,
   "metadata": {},
   "outputs": [],
   "source": [
    "from stockify import * \n",
    "import datetime as dt \n",
    "from polygon import RESTClient\n",
    "from polygon.rest import models\n",
    "    \n",
    "API_key = \"PuJHla6_U_GDHcNE3XSpk7L2gCCpdJ9J\"\n",
    "client = RESTClient(API_key)"
   ]
  },
  {
   "cell_type": "code",
   "execution_count": 8,
   "metadata": {},
   "outputs": [],
   "source": [
    "## Put the API key (if we do pay) into ENV_VARS\n",
    "current_date = dt.datetime.now().date()\n",
    "stocks_tickers = get_list_stocks_tickers(text_file_name='stocks_list',\n",
    "                                         only_stock_tickers=True)\n",
    "\n",
    "for st in stocks_tickers:\n",
    "    \n",
    "    #try:\n",
    "        raw_response = get_p_process_by_ticker(API_key,\n",
    "                                            client,\n",
    "                                            st,\n",
    "                                            get_daily_time_buckets(max_lookback_years=2,\n",
    "                                                                    current_is_timestamp=False,\n",
    "                                                                    frequency='daily',\n",
    "                                                                    include_weekend=False),\n",
    "                                                stock_prices_frequency= 'daily')\n",
    "        \n",
    "        df = get_jsonList_into_dataframe(get_serialized_raw_into_json(raw_response,st),\n",
    "                                    ['close'])\n",
    "    #except (NoResultsError) as e:\n",
    "    #    continue"
   ]
  },
  {
   "cell_type": "code",
   "execution_count": 11,
   "metadata": {},
   "outputs": [
    {
     "data": {
      "text/html": [
       "<div>\n",
       "<style scoped>\n",
       "    .dataframe tbody tr th:only-of-type {\n",
       "        vertical-align: middle;\n",
       "    }\n",
       "\n",
       "    .dataframe tbody tr th {\n",
       "        vertical-align: top;\n",
       "    }\n",
       "\n",
       "    .dataframe thead th {\n",
       "        text-align: right;\n",
       "    }\n",
       "</style>\n",
       "<table border=\"1\" class=\"dataframe\">\n",
       "  <thead>\n",
       "    <tr style=\"text-align: right;\">\n",
       "      <th></th>\n",
       "      <th>stock</th>\n",
       "      <th>converted_utc_timestamp</th>\n",
       "      <th>close</th>\n",
       "    </tr>\n",
       "  </thead>\n",
       "  <tbody>\n",
       "    <tr>\n",
       "      <th>0</th>\n",
       "      <td>AAPL</td>\n",
       "      <td>2020-12-28 05:00:00</td>\n",
       "      <td>136.69</td>\n",
       "    </tr>\n",
       "    <tr>\n",
       "      <th>1</th>\n",
       "      <td>AAPL</td>\n",
       "      <td>2020-12-29 05:00:00</td>\n",
       "      <td>134.87</td>\n",
       "    </tr>\n",
       "    <tr>\n",
       "      <th>2</th>\n",
       "      <td>AAPL</td>\n",
       "      <td>2020-12-30 05:00:00</td>\n",
       "      <td>133.72</td>\n",
       "    </tr>\n",
       "    <tr>\n",
       "      <th>3</th>\n",
       "      <td>AAPL</td>\n",
       "      <td>2020-12-31 05:00:00</td>\n",
       "      <td>132.69</td>\n",
       "    </tr>\n",
       "    <tr>\n",
       "      <th>4</th>\n",
       "      <td>AAPL</td>\n",
       "      <td>2021-01-04 05:00:00</td>\n",
       "      <td>129.41</td>\n",
       "    </tr>\n",
       "    <tr>\n",
       "      <th>...</th>\n",
       "      <td>...</td>\n",
       "      <td>...</td>\n",
       "      <td>...</td>\n",
       "    </tr>\n",
       "    <tr>\n",
       "      <th>498</th>\n",
       "      <td>AAPL</td>\n",
       "      <td>2022-12-19 05:00:00</td>\n",
       "      <td>132.37</td>\n",
       "    </tr>\n",
       "    <tr>\n",
       "      <th>499</th>\n",
       "      <td>AAPL</td>\n",
       "      <td>2022-12-20 05:00:00</td>\n",
       "      <td>132.30</td>\n",
       "    </tr>\n",
       "    <tr>\n",
       "      <th>500</th>\n",
       "      <td>AAPL</td>\n",
       "      <td>2022-12-21 05:00:00</td>\n",
       "      <td>135.45</td>\n",
       "    </tr>\n",
       "    <tr>\n",
       "      <th>501</th>\n",
       "      <td>AAPL</td>\n",
       "      <td>2022-12-22 05:00:00</td>\n",
       "      <td>132.23</td>\n",
       "    </tr>\n",
       "    <tr>\n",
       "      <th>502</th>\n",
       "      <td>AAPL</td>\n",
       "      <td>2022-12-23 05:00:00</td>\n",
       "      <td>131.86</td>\n",
       "    </tr>\n",
       "  </tbody>\n",
       "</table>\n",
       "<p>503 rows × 3 columns</p>\n",
       "</div>"
      ],
      "text/plain": [
       "    stock converted_utc_timestamp   close\n",
       "0    AAPL     2020-12-28 05:00:00  136.69\n",
       "1    AAPL     2020-12-29 05:00:00  134.87\n",
       "2    AAPL     2020-12-30 05:00:00  133.72\n",
       "3    AAPL     2020-12-31 05:00:00  132.69\n",
       "4    AAPL     2021-01-04 05:00:00  129.41\n",
       "..    ...                     ...     ...\n",
       "498  AAPL     2022-12-19 05:00:00  132.37\n",
       "499  AAPL     2022-12-20 05:00:00  132.30\n",
       "500  AAPL     2022-12-21 05:00:00  135.45\n",
       "501  AAPL     2022-12-22 05:00:00  132.23\n",
       "502  AAPL     2022-12-23 05:00:00  131.86\n",
       "\n",
       "[503 rows x 3 columns]"
      ]
     },
     "execution_count": 11,
     "metadata": {},
     "output_type": "execute_result"
    }
   ],
   "source": [
    "df"
   ]
  },
  {
   "cell_type": "code",
   "execution_count": 10,
   "metadata": {},
   "outputs": [
    {
     "data": {
      "text/plain": [
       "['AAPL']"
      ]
     },
     "execution_count": 10,
     "metadata": {},
     "output_type": "execute_result"
    }
   ],
   "source": [
    "stocks_tickers"
   ]
  },
  {
   "cell_type": "code",
   "execution_count": null,
   "metadata": {},
   "outputs": [],
   "source": []
  }
 ],
 "metadata": {
  "kernelspec": {
   "display_name": "Python 3.10.8 64-bit",
   "language": "python",
   "name": "python3"
  },
  "language_info": {
   "codemirror_mode": {
    "name": "ipython",
    "version": 3
   },
   "file_extension": ".py",
   "mimetype": "text/x-python",
   "name": "python",
   "nbconvert_exporter": "python",
   "pygments_lexer": "ipython3",
   "version": "3.10.8"
  },
  "orig_nbformat": 4,
  "vscode": {
   "interpreter": {
    "hash": "b0fa6594d8f4cbf19f97940f81e996739fb7646882a419484c72d19e05852a7e"
   }
  }
 },
 "nbformat": 4,
 "nbformat_minor": 2
}
