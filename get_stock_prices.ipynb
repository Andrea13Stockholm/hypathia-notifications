{
 "cells": [
  {
   "cell_type": "markdown",
   "metadata": {},
   "source": [
    "### Get stock prices data from polygon API"
   ]
  },
  {
   "cell_type": "code",
   "execution_count": 1,
   "metadata": {},
   "outputs": [],
   "source": [
    "#!pip install -r requirements.txt"
   ]
  },
  {
   "cell_type": "code",
   "execution_count": 2,
   "metadata": {},
   "outputs": [],
   "source": [
    "from stockify import * \n",
    "import datetime as dt \n",
    "from polygon import RESTClient\n",
    "from polygon.rest import models\n",
    "from http import HTTPStatus\n",
    "    \n",
    "API_key = \"PuJHla6_U_GDHcNE3XSpk7L2gCCpdJ9J\"\n",
    "client = RESTClient(API_key)"
   ]
  },
  {
   "cell_type": "code",
   "execution_count": 3,
   "metadata": {},
   "outputs": [],
   "source": [
    "## Put the API key (if we do pay) into ENV_VARS\n",
    "current_date = dt.datetime.now().date()\n",
    "stocks_tickers = get_list_stocks_tickers(text_file_name='stocks_list',\n",
    "                                         only_stock_tickers=True)\n",
    "\n",
    "stocks_requirments = get_list_stocks_tickers(text_file_name='stocks_list',\n",
    "                                         only_stock_tickers=False)\n",
    "\n",
    "dfs = []\n",
    "\n",
    "stocks_tickers=['ARR']\n",
    "for st in stocks_tickers:\n",
    "    \n",
    "    #try:\n",
    "        raw_response = get_p_process_by_ticker(API_key,\n",
    "                                            client,\n",
    "                                            st,\n",
    "                                            get_daily_time_buckets(max_lookback_years=100,\n",
    "                                                                    current_is_timestamp=False,\n",
    "                                                                    frequency='daily',\n",
    "                                                                    include_weekend=False),\n",
    "                                            stock_prices_frequency= 'daily')\n",
    "        \n",
    "        df = get_jsonList_prices_into_dataframe(get_serialized_price_raw_into_json(raw_response,st),\n",
    "                                    ['close'])\n",
    "    # If exceed request per minute\n",
    "    #except (BadResponse) as e:\n",
    "    #    continue\n",
    "    #    print(e)\n",
    "\n",
    "        dfs.append(df)\n",
    "\n",
    "if len(dfs)>0: \n",
    "    dfs = pd.concat(dfs)"
   ]
  },
  {
   "cell_type": "code",
   "execution_count": 7,
   "metadata": {},
   "outputs": [
    {
     "data": {
      "text/plain": [
       "'2020-12-28 05:00:00'"
      ]
     },
     "execution_count": 7,
     "metadata": {},
     "output_type": "execute_result"
    }
   ],
   "source": [
    "dfs.converted_utc_timestamp.min()"
   ]
  },
  {
   "cell_type": "code",
   "execution_count": 5,
   "metadata": {},
   "outputs": [
    {
     "name": "stdout",
     "output_type": "stream",
     "text": [
      "Dividend(cash_amount=0.1, declaration_date='2022-11-21', dividend_type='CD', ex_dividend_date='2022-12-14', frequency=12, pay_date='2022-12-28', record_date='2022-12-15', ticker='ARR')\n",
      "Dividend(cash_amount=0.1, declaration_date='2022-10-26', dividend_type='CD', ex_dividend_date='2022-11-14', frequency=12, pay_date='2022-11-28', record_date='2022-11-15', ticker='ARR')\n",
      "Dividend(cash_amount=0.1, declaration_date='2022-09-27', dividend_type='CD', ex_dividend_date='2022-10-14', frequency=12, pay_date='2022-10-28', record_date='2022-10-17', ticker='ARR')\n",
      "Dividend(cash_amount=0.1, declaration_date='2022-08-23', dividend_type='CD', ex_dividend_date='2022-09-14', frequency=12, pay_date='2022-09-29', record_date='2022-09-15', ticker='ARR')\n",
      "Dividend(cash_amount=0.1, declaration_date='2022-07-27', dividend_type='CD', ex_dividend_date='2022-08-12', frequency=12, pay_date='2022-08-29', record_date='2022-08-15', ticker='ARR')\n",
      "Dividend(cash_amount=0.1, declaration_date='2022-06-24', dividend_type='CD', ex_dividend_date='2022-07-14', frequency=12, pay_date='2022-07-29', record_date='2022-07-15', ticker='ARR')\n",
      "Dividend(cash_amount=0.1, declaration_date='2022-05-23', dividend_type='CD', ex_dividend_date='2022-06-14', frequency=12, pay_date='2022-06-29', record_date='2022-06-15', ticker='ARR')\n",
      "Dividend(cash_amount=0.1, declaration_date='2022-04-26', dividend_type='CD', ex_dividend_date='2022-05-13', frequency=12, pay_date='2022-05-27', record_date='2022-05-16', ticker='ARR')\n",
      "Dividend(cash_amount=0.1, declaration_date='2022-03-25', dividend_type='CD', ex_dividend_date='2022-04-14', frequency=12, pay_date='2022-04-29', record_date='2022-04-18', ticker='ARR')\n",
      "Dividend(cash_amount=0.1, declaration_date='2022-02-15', dividend_type='CD', ex_dividend_date='2022-03-14', frequency=12, pay_date='2022-03-28', record_date='2022-03-15', ticker='ARR')\n",
      "Dividend(cash_amount=0.1, declaration_date='2021-12-27', dividend_type='CD', ex_dividend_date='2022-01-14', frequency=12, pay_date='2022-01-28', record_date='2022-01-18', ticker='ARR')\n",
      "Dividend(cash_amount=0.1, declaration_date='2021-11-29', dividend_type='CD', ex_dividend_date='2021-12-14', frequency=12, pay_date='2021-12-29', record_date='2021-12-15', ticker='ARR')\n",
      "Dividend(cash_amount=0.1, declaration_date='2021-10-27', dividend_type='CD', ex_dividend_date='2021-11-12', frequency=12, pay_date='2021-11-29', record_date='2021-11-15', ticker='ARR')\n",
      "Dividend(cash_amount=0.1, declaration_date='2021-09-24', dividend_type='CD', ex_dividend_date='2021-10-14', frequency=12, pay_date='2021-10-28', record_date='2021-10-15', ticker='ARR')\n",
      "Dividend(cash_amount=0.1, declaration_date='2021-08-20', dividend_type='CD', ex_dividend_date='2021-09-14', frequency=12, pay_date='2021-09-29', record_date='2021-09-15', ticker='ARR')\n",
      "Dividend(cash_amount=0.1, declaration_date='2021-07-21', dividend_type='CD', ex_dividend_date='2021-08-13', frequency=12, pay_date='2021-08-27', record_date='2021-08-16', ticker='ARR')\n",
      "Dividend(cash_amount=0.1, declaration_date='2021-06-24', dividend_type='CD', ex_dividend_date='2021-07-14', frequency=12, pay_date='2021-07-29', record_date='2021-07-15', ticker='ARR')\n",
      "Dividend(cash_amount=0.1, declaration_date='2021-05-25', dividend_type='CD', ex_dividend_date='2021-06-14', frequency=12, pay_date='2021-06-29', record_date='2021-06-15', ticker='ARR')\n",
      "Dividend(cash_amount=0.1, declaration_date='2021-04-21', dividend_type='CD', ex_dividend_date='2021-05-14', frequency=12, pay_date='2021-05-27', record_date='2021-05-17', ticker='ARR')\n",
      "Dividend(cash_amount=0.1, declaration_date='2021-03-29', dividend_type='CD', ex_dividend_date='2021-04-14', frequency=12, pay_date='2021-04-29', record_date='2021-04-15', ticker='ARR')\n",
      "Dividend(cash_amount=0.1, declaration_date='2021-02-17', dividend_type='CD', ex_dividend_date='2021-03-12', frequency=12, pay_date='2021-03-29', record_date='2021-03-15', ticker='ARR')\n",
      "Dividend(cash_amount=0.1, declaration_date='2021-01-28', dividend_type='CD', ex_dividend_date='2021-02-12', frequency=12, pay_date='2021-02-26', record_date='2021-02-16', ticker='ARR')\n",
      "Dividend(cash_amount=0.1, declaration_date='2020-12-28', dividend_type='CD', ex_dividend_date='2021-01-14', frequency=12, pay_date='2021-01-28', record_date='2021-01-15', ticker='ARR')\n",
      "Dividend(cash_amount=0.1, declaration_date='2020-11-30', dividend_type='CD', ex_dividend_date='2020-12-14', frequency=12, pay_date='2020-12-29', record_date='2020-12-15', ticker='ARR')\n",
      "Dividend(cash_amount=0.1, declaration_date='2020-10-21', dividend_type='CD', ex_dividend_date='2020-11-13', frequency=12, pay_date='2020-11-27', record_date='2020-11-16', ticker='ARR')\n",
      "Dividend(cash_amount=0.1, declaration_date='2020-09-23', dividend_type='CD', ex_dividend_date='2020-10-14', frequency=12, pay_date='2020-10-29', record_date='2020-10-15', ticker='ARR')\n",
      "Dividend(cash_amount=0.1, declaration_date='2020-06-22', dividend_type='CD', ex_dividend_date='2020-09-14', frequency=12, pay_date='2020-09-29', record_date='2020-09-15', ticker='ARR')\n",
      "Dividend(cash_amount=0.1, declaration_date='2020-06-22', dividend_type='CD', ex_dividend_date='2020-08-14', frequency=12, pay_date='2020-08-28', record_date='2020-08-17', ticker='ARR')\n",
      "Dividend(cash_amount=0.1, declaration_date='2020-06-22', dividend_type='CD', ex_dividend_date='2020-07-14', frequency=12, pay_date='2020-07-30', record_date='2020-07-15', ticker='ARR')\n",
      "Dividend(cash_amount=0.09, declaration_date='2020-05-19', dividend_type='CD', ex_dividend_date='2020-06-12', frequency=12, pay_date='2020-06-29', record_date='2020-06-15', ticker='ARR')\n",
      "Dividend(cash_amount=0.17, declaration_date='2020-01-27', dividend_type='CD', ex_dividend_date='2020-02-13', frequency=12, pay_date='2020-02-27', record_date='2020-02-14', ticker='ARR')\n",
      "Dividend(cash_amount=0.17, declaration_date='2019-12-23', dividend_type='CD', ex_dividend_date='2020-01-14', frequency=12, pay_date='2020-01-30', record_date='2020-01-15', ticker='ARR')\n",
      "Dividend(cash_amount=0.17, declaration_date='2019-11-21', dividend_type='CD', ex_dividend_date='2019-12-13', frequency=12, pay_date='2019-12-27', record_date='2019-12-16', ticker='ARR')\n",
      "Dividend(cash_amount=0.17, declaration_date='2019-10-23', dividend_type='CD', ex_dividend_date='2019-11-14', frequency=12, pay_date='2019-11-27', record_date='2019-11-15', ticker='ARR')\n",
      "Dividend(cash_amount=0.17, declaration_date='2019-09-24', dividend_type='CD', ex_dividend_date='2019-10-11', frequency=12, pay_date='2019-10-28', record_date='2019-10-15', ticker='ARR')\n",
      "Dividend(cash_amount=0.17, declaration_date='2019-08-26', dividend_type='CD', ex_dividend_date='2019-09-13', frequency=12, pay_date='2019-09-27', record_date='2019-09-16', ticker='ARR')\n",
      "Dividend(cash_amount=0.17, declaration_date='2019-07-24', dividend_type='CD', ex_dividend_date='2019-08-14', frequency=12, pay_date='2019-08-27', record_date='2019-08-15', ticker='ARR')\n",
      "Dividend(cash_amount=0.17, declaration_date='2019-06-24', dividend_type='CD', ex_dividend_date='2019-07-12', frequency=12, pay_date='2019-07-29', record_date='2019-07-15', ticker='ARR')\n",
      "Dividend(cash_amount=0.19, declaration_date='2019-05-14', dividend_type='CD', ex_dividend_date='2019-06-14', frequency=12, pay_date='2019-06-27', record_date='2019-06-17', ticker='ARR')\n",
      "Dividend(cash_amount=0.19, declaration_date='2019-04-24', dividend_type='CD', ex_dividend_date='2019-05-14', frequency=12, pay_date='2019-05-28', record_date='2019-05-15', ticker='ARR')\n",
      "Dividend(cash_amount=0.19, declaration_date='2019-03-27', dividend_type='CD', ex_dividend_date='2019-04-12', frequency=12, pay_date='2019-04-29', record_date='2019-04-15', ticker='ARR')\n",
      "Dividend(cash_amount=0.19, declaration_date='2019-02-15', dividend_type='CD', ex_dividend_date='2019-03-14', frequency=12, pay_date='2019-03-27', record_date='2019-03-15', ticker='ARR')\n",
      "Dividend(cash_amount=0.19, declaration_date='2019-01-28', dividend_type='CD', ex_dividend_date='2019-02-14', frequency=12, pay_date='2019-02-28', record_date='2019-02-15', ticker='ARR')\n",
      "Dividend(cash_amount=0.19, declaration_date='2018-12-26', dividend_type='CD', ex_dividend_date='2019-01-14', frequency=12, pay_date='2019-01-28', record_date='2019-01-15', ticker='ARR')\n",
      "Dividend(cash_amount=0.19, declaration_date='2018-11-26', dividend_type='CD', ex_dividend_date='2018-12-14', frequency=12, pay_date='2018-12-27', record_date='2018-12-17', ticker='ARR')\n",
      "Dividend(cash_amount=0.19, declaration_date='2018-10-24', dividend_type='CD', ex_dividend_date='2018-11-14', frequency=12, pay_date='2018-11-27', record_date='2018-11-15', ticker='ARR')\n",
      "Dividend(cash_amount=0.19, declaration_date='2018-09-24', dividend_type='CD', ex_dividend_date='2018-10-12', frequency=12, pay_date='2018-10-29', record_date='2018-10-15', ticker='ARR')\n",
      "Dividend(cash_amount=0.19, declaration_date='2018-08-27', dividend_type='CD', ex_dividend_date='2018-09-14', frequency=12, pay_date='2018-09-27', record_date='2018-09-17', ticker='ARR')\n",
      "Dividend(cash_amount=0.19, declaration_date='2018-07-26', dividend_type='CD', ex_dividend_date='2018-08-14', frequency=12, pay_date='2018-08-28', record_date='2018-08-15', ticker='ARR')\n",
      "Dividend(cash_amount=0.19, declaration_date='2018-06-26', dividend_type='CD', ex_dividend_date='2018-07-13', frequency=12, pay_date='2018-07-27', record_date='2018-07-16', ticker='ARR')\n"
     ]
    },
    {
     "ename": "BadResponse",
     "evalue": "{\"status\":\"ERROR\",\"request_id\":\"46f6f108094aad0495195366affcb0d8\",\"error\":\"You've exceeded the maximum requests per minute, please wait or upgrade your subscription to continue. https://polygon.io/pricing\"}",
     "output_type": "error",
     "traceback": [
      "\u001b[0;31m---------------------------------------------------------------------------\u001b[0m",
      "\u001b[0;31mBadResponse\u001b[0m                               Traceback (most recent call last)",
      "Cell \u001b[0;32mIn [5], line 1\u001b[0m\n\u001b[0;32m----> 1\u001b[0m \u001b[39mfor\u001b[39;00m item \u001b[39min\u001b[39;00m client\u001b[39m.\u001b[39mlist_dividends(ticker\u001b[39m=\u001b[39m\u001b[39m'\u001b[39m\u001b[39mARR\u001b[39m\u001b[39m'\u001b[39m): \n\u001b[1;32m      2\u001b[0m     \u001b[39mprint\u001b[39m(item)\n",
      "File \u001b[0;32m/opt/homebrew/lib/python3.10/site-packages/polygon/rest/base.py:177\u001b[0m, in \u001b[0;36mBaseClient._paginate_iter\u001b[0;34m(self, path, params, deserializer, result_key, options)\u001b[0m\n\u001b[1;32m    168\u001b[0m \u001b[39mdef\u001b[39;00m \u001b[39m_paginate_iter\u001b[39m(\n\u001b[1;32m    169\u001b[0m     \u001b[39mself\u001b[39m,\n\u001b[1;32m    170\u001b[0m     path: \u001b[39mstr\u001b[39m,\n\u001b[0;32m   (...)\u001b[0m\n\u001b[1;32m    174\u001b[0m     options: Optional[RequestOptionBuilder] \u001b[39m=\u001b[39m \u001b[39mNone\u001b[39;00m,\n\u001b[1;32m    175\u001b[0m ):\n\u001b[1;32m    176\u001b[0m     \u001b[39mwhile\u001b[39;00m \u001b[39mTrue\u001b[39;00m:\n\u001b[0;32m--> 177\u001b[0m         resp \u001b[39m=\u001b[39m \u001b[39mself\u001b[39;49m\u001b[39m.\u001b[39;49m_get(\n\u001b[1;32m    178\u001b[0m             path\u001b[39m=\u001b[39;49mpath,\n\u001b[1;32m    179\u001b[0m             params\u001b[39m=\u001b[39;49mparams,\n\u001b[1;32m    180\u001b[0m             deserializer\u001b[39m=\u001b[39;49mdeserializer,\n\u001b[1;32m    181\u001b[0m             result_key\u001b[39m=\u001b[39;49mresult_key,\n\u001b[1;32m    182\u001b[0m             raw\u001b[39m=\u001b[39;49m\u001b[39mTrue\u001b[39;49;00m,\n\u001b[1;32m    183\u001b[0m             options\u001b[39m=\u001b[39;49moptions,\n\u001b[1;32m    184\u001b[0m         )\n\u001b[1;32m    185\u001b[0m         decoded \u001b[39m=\u001b[39m \u001b[39mself\u001b[39m\u001b[39m.\u001b[39m_decode(resp)\n\u001b[1;32m    186\u001b[0m         \u001b[39mfor\u001b[39;00m t \u001b[39min\u001b[39;00m decoded[result_key]:\n",
      "File \u001b[0;32m/opt/homebrew/lib/python3.10/site-packages/polygon/rest/base.py:93\u001b[0m, in \u001b[0;36mBaseClient._get\u001b[0;34m(self, path, params, result_key, deserializer, raw, options)\u001b[0m\n\u001b[1;32m     84\u001b[0m resp \u001b[39m=\u001b[39m \u001b[39mself\u001b[39m\u001b[39m.\u001b[39mclient\u001b[39m.\u001b[39mrequest(\n\u001b[1;32m     85\u001b[0m     \u001b[39m\"\u001b[39m\u001b[39mGET\u001b[39m\u001b[39m\"\u001b[39m,\n\u001b[1;32m     86\u001b[0m     \u001b[39mself\u001b[39m\u001b[39m.\u001b[39mBASE \u001b[39m+\u001b[39m path,\n\u001b[0;32m   (...)\u001b[0m\n\u001b[1;32m     89\u001b[0m     headers\u001b[39m=\u001b[39m\u001b[39mself\u001b[39m\u001b[39m.\u001b[39m_concat_headers(option\u001b[39m.\u001b[39mheaders),\n\u001b[1;32m     90\u001b[0m )\n\u001b[1;32m     92\u001b[0m \u001b[39mif\u001b[39;00m resp\u001b[39m.\u001b[39mstatus \u001b[39m!=\u001b[39m \u001b[39m200\u001b[39m:\n\u001b[0;32m---> 93\u001b[0m     \u001b[39mraise\u001b[39;00m BadResponse(resp\u001b[39m.\u001b[39mdata\u001b[39m.\u001b[39mdecode(\u001b[39m\"\u001b[39m\u001b[39mutf-8\u001b[39m\u001b[39m\"\u001b[39m))\n\u001b[1;32m     95\u001b[0m \u001b[39mif\u001b[39;00m raw:\n\u001b[1;32m     96\u001b[0m     \u001b[39mreturn\u001b[39;00m resp\n",
      "\u001b[0;31mBadResponse\u001b[0m: {\"status\":\"ERROR\",\"request_id\":\"46f6f108094aad0495195366affcb0d8\",\"error\":\"You've exceeded the maximum requests per minute, please wait or upgrade your subscription to continue. https://polygon.io/pricing\"}"
     ]
    }
   ],
   "source": [
    "for item in client.list_dividends(ticker='ARR'): \n",
    "    print(item)"
   ]
  },
  {
   "cell_type": "code",
   "execution_count": null,
   "metadata": {},
   "outputs": [],
   "source": [
    "def check_max_lookback_period(max_lookback_years: float):\n",
    "    '''\n",
    "    Check to avoid inserting over limit lookback period. \n",
    "    If more than 2 years are inserted, the function forces\n",
    "    the limit to 2 years.\n",
    "    '''\n",
    "    \n",
    "    if max_lookback_years > 2:\n",
    "        max_lookback_years = 2\n",
    "        \n",
    "    return max_lookback_years"
   ]
  },
  {
   "cell_type": "code",
   "execution_count": null,
   "metadata": {},
   "outputs": [],
   "source": [
    "a = check_max_lookback_period(3)"
   ]
  },
  {
   "cell_type": "code",
   "execution_count": null,
   "metadata": {},
   "outputs": [
    {
     "data": {
      "text/plain": [
       "2"
      ]
     },
     "execution_count": 23,
     "metadata": {},
     "output_type": "execute_result"
    }
   ],
   "source": [
    "a"
   ]
  }
 ],
 "metadata": {
  "kernelspec": {
   "display_name": "Python 3.10.8 64-bit",
   "language": "python",
   "name": "python3"
  },
  "language_info": {
   "codemirror_mode": {
    "name": "ipython",
    "version": 3
   },
   "file_extension": ".py",
   "mimetype": "text/x-python",
   "name": "python",
   "nbconvert_exporter": "python",
   "pygments_lexer": "ipython3",
   "version": "3.10.8"
  },
  "orig_nbformat": 4,
  "vscode": {
   "interpreter": {
    "hash": "b0fa6594d8f4cbf19f97940f81e996739fb7646882a419484c72d19e05852a7e"
   }
  }
 },
 "nbformat": 4,
 "nbformat_minor": 2
}
