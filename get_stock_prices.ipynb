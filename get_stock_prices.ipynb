{
 "cells": [
  {
   "cell_type": "markdown",
   "metadata": {},
   "source": [
    "### Get stock prices data from polygon API"
   ]
  },
  {
   "cell_type": "code",
   "execution_count": 1,
   "metadata": {},
   "outputs": [],
   "source": [
    "#!pip install -r requirements.txt"
   ]
  },
  {
   "cell_type": "code",
   "execution_count": 2,
   "metadata": {},
   "outputs": [],
   "source": [
    "from stockify import * \n",
    "import datetime as dt \n",
    "from polygon import RESTClient\n",
    "from polygon.rest import models\n",
    "from http import HTTPStatus\n",
    "import time\n",
    "    \n",
    "API_key = '4Usv4WtFIeRsmpSPEsh3Kn8C2la841d9'\n",
    "API_keys =['1Rwa2pddBbwCUgqzr9UQ4hZoA4SMnPSq','PuJHla6_U_GDHcNE3XSpk7L2gCCpdJ9J','4Usv4WtFIeRsmpSPEsh3Kn8C2la841d9']\n",
    "client = RESTClient(API_key)"
   ]
  },
  {
   "cell_type": "code",
   "execution_count": 3,
   "metadata": {},
   "outputs": [
    {
     "name": "stdout",
     "output_type": "stream",
     "text": [
      "['SBB-B', 200, 'DELAYED', 0]\n",
      "['CORE-Ddssd', 200, 'DELAYED', 0]\n",
      "['----', 200, 'DELAYED', 0]\n",
      "ARR\n",
      "AGNC\n",
      "SCM\n",
      "AAPL\n"
     ]
    }
   ],
   "source": [
    "## Put the API key (if we do pay) into ENV_VARS\n",
    "current_date = dt.datetime.now().date()\n",
    "stocks_tickers = get_list_stocks_tickers(text_file_name='stocks_list',\n",
    "                                         only_stock_tickers=True)\n",
    "\n",
    "stocks_requirments = get_list_stocks_tickers(text_file_name='stocks_list',\n",
    "                                         only_stock_tickers=False)\n",
    "\n",
    "\n",
    "HTTP_summary = get_HTTP_status_codes_by_sequencing_get_calls(API_keys=API_keys,\n",
    "                                                             stocks_tickers=stocks_tickers,\n",
    "                                                             time_sleep=8)\n",
    "\n",
    "stocks_ticker_GET = get_stock_list_GET_calls(HTTP_summary)\n",
    "\n",
    "prices_dfs = []\n",
    "dividends_dfs = []\n",
    "DP_ratio_dfs = []\n",
    "prices_dfs_final=[]\n",
    "dividends_dfs_final=[]\n",
    "\n",
    "time.sleep(60)\n",
    "\n",
    "for st in stocks_ticker_GET:\n",
    "\n",
    "            print(st)\n",
    "            \n",
    "            p_raw_response = get_p_process_by_ticker(API_key,\n",
    "                                                client,\n",
    "                                                st,\n",
    "                                                get_daily_time_buckets(max_lookback_years=2,\n",
    "                                                                        current_is_timestamp=False,\n",
    "                                                                        frequency='daily',\n",
    "                                                                        include_weekend=False),\n",
    "                                                stock_prices_frequency= 'daily')\n",
    "            \n",
    "            pdf = get_jsonList_prices_into_dataframe(get_serialized_price_raw_into_json(p_raw_response,st),\n",
    "                                        ['close'])\n",
    "\n",
    "\n",
    "            prices_dfs.append(pdf)\n",
    "    \n",
    "            d_raw_response = get_top_x_dividends_by_ticker(ticker=st,\n",
    "                                                        client=client,\n",
    "                                                        API_latency_secs=1.5,\n",
    "                                                        n_API_calls=24\n",
    "                                                        )\n",
    "            \n",
    "\n",
    "            ddf = get_jsonList_dividends_into_dataframe(DivjsonList = d_raw_response,\n",
    "                                                        measurable_time_variables= ['pay_date'],\n",
    "                                                        dividend_types=['CD'])\n",
    "                        \n",
    "            ##SC = special dividens; all the others paid out are ordinary are marked as CD by the API.\n",
    "        \n",
    "            dividends_dfs.append(ddf)\n",
    "            \n",
    "            DP_ratio_df = get_dividend_price_ratios(ticker=st,\n",
    "                                                    prices_df=pdf,\n",
    "                                                    dividends_df=ddf)\n",
    "        \n",
    "            DP_ratio_dfs.append(DP_ratio_df)\n",
    "\n",
    "if len(prices_dfs)>0: \n",
    "    prices_dfs_final = pd.concat(prices_dfs)\n",
    "    \n",
    "if len(dividends_dfs)>0: \n",
    "    dividends_dfs_final = pd.concat(dividends_dfs)\n",
    "    \n",
    "if len(DP_ratio_dfs)>0: \n",
    "    DP_ratio_dfs_final = pd.concat(DP_ratio_dfs)"
   ]
  },
  {
   "cell_type": "code",
   "execution_count": 5,
   "metadata": {},
   "outputs": [
    {
     "data": {
      "text/html": [
       "<div>\n",
       "<style scoped>\n",
       "    .dataframe tbody tr th:only-of-type {\n",
       "        vertical-align: middle;\n",
       "    }\n",
       "\n",
       "    .dataframe tbody tr th {\n",
       "        vertical-align: top;\n",
       "    }\n",
       "\n",
       "    .dataframe thead th {\n",
       "        text-align: right;\n",
       "    }\n",
       "</style>\n",
       "<table border=\"1\" class=\"dataframe\">\n",
       "  <thead>\n",
       "    <tr style=\"text-align: right;\">\n",
       "      <th></th>\n",
       "      <th>stock</th>\n",
       "      <th>close</th>\n",
       "      <th>converted_utc_timestamp</th>\n",
       "      <th>n_paid_dividens_current_year</th>\n",
       "      <th>sum_paid_dividens_current_year</th>\n",
       "      <th>DP_ratio</th>\n",
       "    </tr>\n",
       "  </thead>\n",
       "  <tbody>\n",
       "    <tr>\n",
       "      <th>0</th>\n",
       "      <td>ARR</td>\n",
       "      <td>5.63</td>\n",
       "      <td>2022-12-30 05:00:00</td>\n",
       "      <td>12.0</td>\n",
       "      <td>1.2000</td>\n",
       "      <td>21.314387</td>\n",
       "    </tr>\n",
       "    <tr>\n",
       "      <th>0</th>\n",
       "      <td>AGNC</td>\n",
       "      <td>10.35</td>\n",
       "      <td>2022-12-30 05:00:00</td>\n",
       "      <td>11.0</td>\n",
       "      <td>1.3200</td>\n",
       "      <td>12.753623</td>\n",
       "    </tr>\n",
       "    <tr>\n",
       "      <th>0</th>\n",
       "      <td>SCM</td>\n",
       "      <td>13.26</td>\n",
       "      <td>2022-12-30 05:00:00</td>\n",
       "      <td>13.0</td>\n",
       "      <td>1.2129</td>\n",
       "      <td>9.147059</td>\n",
       "    </tr>\n",
       "    <tr>\n",
       "      <th>0</th>\n",
       "      <td>AAPL</td>\n",
       "      <td>129.93</td>\n",
       "      <td>2022-12-30 05:00:00</td>\n",
       "      <td>4.0</td>\n",
       "      <td>0.9100</td>\n",
       "      <td>0.700377</td>\n",
       "    </tr>\n",
       "  </tbody>\n",
       "</table>\n",
       "</div>"
      ],
      "text/plain": [
       "  stock   close converted_utc_timestamp  n_paid_dividens_current_year  \\\n",
       "0   ARR    5.63     2022-12-30 05:00:00                          12.0   \n",
       "0  AGNC   10.35     2022-12-30 05:00:00                          11.0   \n",
       "0   SCM   13.26     2022-12-30 05:00:00                          13.0   \n",
       "0  AAPL  129.93     2022-12-30 05:00:00                           4.0   \n",
       "\n",
       "   sum_paid_dividens_current_year   DP_ratio  \n",
       "0                          1.2000  21.314387  \n",
       "0                          1.3200  12.753623  \n",
       "0                          1.2129   9.147059  \n",
       "0                          0.9100   0.700377  "
      ]
     },
     "execution_count": 5,
     "metadata": {},
     "output_type": "execute_result"
    }
   ],
   "source": [
    "DP_ratio_dfs_final[DP_ratio_dfs_final['converted_utc_timestamp']=='2022-12-30 05:00:00']"
   ]
  }
 ],
 "metadata": {
  "kernelspec": {
   "display_name": "Python 3.10.8 64-bit",
   "language": "python",
   "name": "python3"
  },
  "language_info": {
   "codemirror_mode": {
    "name": "ipython",
    "version": 3
   },
   "file_extension": ".py",
   "mimetype": "text/x-python",
   "name": "python",
   "nbconvert_exporter": "python",
   "pygments_lexer": "ipython3",
   "version": "3.10.8"
  },
  "orig_nbformat": 4,
  "vscode": {
   "interpreter": {
    "hash": "b0fa6594d8f4cbf19f97940f81e996739fb7646882a419484c72d19e05852a7e"
   }
  }
 },
 "nbformat": 4,
 "nbformat_minor": 2
}
