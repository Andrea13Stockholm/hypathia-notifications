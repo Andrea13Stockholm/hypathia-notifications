{
 "cells": [
  {
   "cell_type": "markdown",
   "metadata": {},
   "source": [
    "### Get stock prices data from polygon API"
   ]
  },
  {
   "cell_type": "code",
   "execution_count": 1,
   "metadata": {},
   "outputs": [],
   "source": [
    "#pip install polygon-api-client"
   ]
  },
  {
   "cell_type": "code",
   "execution_count": 56,
   "metadata": {},
   "outputs": [],
   "source": [
    "from polygon import RESTClient\n",
    "import datetime as dt\n",
    "\n",
    "API_key =\n",
    "client = RESTClient(API_key)\n",
    "\n",
    "current_time = dt.datetime.now()"
   ]
  },
  {
   "cell_type": "code",
   "execution_count": 62,
   "metadata": {},
   "outputs": [],
   "source": [
    "def daterange(end_point,start_point):\n",
    "    \n",
    "    for n_days in range(int ((end_point - start_point).days)+1):\n",
    "        yield start_point + timedelta(n_days)\n",
    "        \n",
    "    for dt in daterange(start_point, end_point):\n",
    "        ex_dividend_date =dt.strftime(\"%Y-%m-%d\")\n",
    "        return ex_dividend_date \n",
    "\n",
    "\n",
    "\n",
    "\n",
    "def get_daily_time_buckets(current_time:dt.datetime,\n",
    "                           max_lookback_years:int,\n",
    "                           include_weekends:bool):\n",
    "    \n",
    "    \n",
    "    '''\n",
    "    Generate a series of days between current time\n",
    "    and max_lookback_years, with include_weekends option\n",
    "    '''\n",
    "    \n",
    "    from datetime import timedelta, date\n",
    "    \n",
    "    start_point = date(2015, 12, 20)\n",
    "    end_point = date(2016, 1, 11)\n",
    "    \n",
    "   "
   ]
  },
  {
   "cell_type": "code",
   "execution_count": null,
   "metadata": {},
   "outputs": [],
   "source": []
  },
  {
   "cell_type": "code",
   "execution_count": 59,
   "metadata": {},
   "outputs": [],
   "source": [
    "r = get_daily_time_buckets(current_time=dt.datetime.now(),max_lookback_years=2,include_weekends=True)"
   ]
  },
  {
   "cell_type": "code",
   "execution_count": 60,
   "metadata": {},
   "outputs": [],
   "source": [
    "r"
   ]
  },
  {
   "cell_type": "code",
   "execution_count": 31,
   "metadata": {},
   "outputs": [
    {
     "ename": "BadResponse",
     "evalue": "{\"status\":\"ERROR\",\"request_id\":\"d1b5ff0e171583d0f3602b011f90a403\",\"error\":\"You've exceeded the maximum requests per minute, please wait or upgrade your subscription to continue. https://polygon.io/pricing\"}",
     "output_type": "error",
     "traceback": [
      "\u001b[0;31m---------------------------------------------------------------------------\u001b[0m",
      "\u001b[0;31mBadResponse\u001b[0m                               Traceback (most recent call last)",
      "Cell \u001b[0;32mIn [31], line 2\u001b[0m\n\u001b[1;32m      1\u001b[0m \u001b[39mfrom\u001b[39;00m \u001b[39mpolygon\u001b[39;00m\u001b[39m.\u001b[39;00m\u001b[39mrest\u001b[39;00m \u001b[39mimport\u001b[39;00m models\n\u001b[0;32m----> 2\u001b[0m aggs \u001b[39m=\u001b[39m client\u001b[39m.\u001b[39;49mget_aggs(\n\u001b[1;32m      3\u001b[0m     \u001b[39m\"\u001b[39;49m\u001b[39mAAPL\u001b[39;49m\u001b[39m\"\u001b[39;49m,\n\u001b[1;32m      4\u001b[0m     \u001b[39m1\u001b[39;49m,\n\u001b[1;32m      5\u001b[0m     \u001b[39m\"\u001b[39;49m\u001b[39mday\u001b[39;49m\u001b[39m\"\u001b[39;49m,\n\u001b[1;32m      6\u001b[0m     \u001b[39m\"\u001b[39;49m\u001b[39m2022-04-04\u001b[39;49m\u001b[39m\"\u001b[39;49m,\n\u001b[1;32m      7\u001b[0m     \u001b[39m\"\u001b[39;49m\u001b[39m2022-04-04\u001b[39;49m\u001b[39m\"\u001b[39;49m,\n\u001b[1;32m      8\u001b[0m )\n\u001b[1;32m      9\u001b[0m \u001b[39mprint\u001b[39m(aggs)\n",
      "File \u001b[0;32m/opt/homebrew/lib/python3.10/site-packages/polygon/rest/aggs.py:48\u001b[0m, in \u001b[0;36mAggsClient.get_aggs\u001b[0;34m(self, ticker, multiplier, timespan, from_, to, adjusted, sort, limit, params, raw, options)\u001b[0m\n\u001b[1;32m     45\u001b[0m     to \u001b[39m=\u001b[39m \u001b[39mint\u001b[39m(to\u001b[39m.\u001b[39mtimestamp() \u001b[39m*\u001b[39m \u001b[39mself\u001b[39m\u001b[39m.\u001b[39mtime_mult(\u001b[39m\"\u001b[39m\u001b[39mmillis\u001b[39m\u001b[39m\"\u001b[39m))\n\u001b[1;32m     46\u001b[0m url \u001b[39m=\u001b[39m \u001b[39mf\u001b[39m\u001b[39m\"\u001b[39m\u001b[39m/v2/aggs/ticker/\u001b[39m\u001b[39m{\u001b[39;00mticker\u001b[39m}\u001b[39;00m\u001b[39m/range/\u001b[39m\u001b[39m{\u001b[39;00mmultiplier\u001b[39m}\u001b[39;00m\u001b[39m/\u001b[39m\u001b[39m{\u001b[39;00mtimespan\u001b[39m}\u001b[39;00m\u001b[39m/\u001b[39m\u001b[39m{\u001b[39;00mfrom_\u001b[39m}\u001b[39;00m\u001b[39m/\u001b[39m\u001b[39m{\u001b[39;00mto\u001b[39m}\u001b[39;00m\u001b[39m\"\u001b[39m\n\u001b[0;32m---> 48\u001b[0m \u001b[39mreturn\u001b[39;00m \u001b[39mself\u001b[39;49m\u001b[39m.\u001b[39;49m_get(\n\u001b[1;32m     49\u001b[0m     path\u001b[39m=\u001b[39;49murl,\n\u001b[1;32m     50\u001b[0m     params\u001b[39m=\u001b[39;49m\u001b[39mself\u001b[39;49m\u001b[39m.\u001b[39;49m_get_params(\u001b[39mself\u001b[39;49m\u001b[39m.\u001b[39;49mget_aggs, \u001b[39mlocals\u001b[39;49m()),\n\u001b[1;32m     51\u001b[0m     result_key\u001b[39m=\u001b[39;49m\u001b[39m\"\u001b[39;49m\u001b[39mresults\u001b[39;49m\u001b[39m\"\u001b[39;49m,\n\u001b[1;32m     52\u001b[0m     deserializer\u001b[39m=\u001b[39;49mAgg\u001b[39m.\u001b[39;49mfrom_dict,\n\u001b[1;32m     53\u001b[0m     raw\u001b[39m=\u001b[39;49mraw,\n\u001b[1;32m     54\u001b[0m     options\u001b[39m=\u001b[39;49moptions,\n\u001b[1;32m     55\u001b[0m )\n",
      "File \u001b[0;32m/opt/homebrew/lib/python3.10/site-packages/polygon/rest/base.py:93\u001b[0m, in \u001b[0;36mBaseClient._get\u001b[0;34m(self, path, params, result_key, deserializer, raw, options)\u001b[0m\n\u001b[1;32m     84\u001b[0m resp \u001b[39m=\u001b[39m \u001b[39mself\u001b[39m\u001b[39m.\u001b[39mclient\u001b[39m.\u001b[39mrequest(\n\u001b[1;32m     85\u001b[0m     \u001b[39m\"\u001b[39m\u001b[39mGET\u001b[39m\u001b[39m\"\u001b[39m,\n\u001b[1;32m     86\u001b[0m     \u001b[39mself\u001b[39m\u001b[39m.\u001b[39mBASE \u001b[39m+\u001b[39m path,\n\u001b[0;32m   (...)\u001b[0m\n\u001b[1;32m     89\u001b[0m     headers\u001b[39m=\u001b[39m\u001b[39mself\u001b[39m\u001b[39m.\u001b[39m_concat_headers(option\u001b[39m.\u001b[39mheaders),\n\u001b[1;32m     90\u001b[0m )\n\u001b[1;32m     92\u001b[0m \u001b[39mif\u001b[39;00m resp\u001b[39m.\u001b[39mstatus \u001b[39m!=\u001b[39m \u001b[39m200\u001b[39m:\n\u001b[0;32m---> 93\u001b[0m     \u001b[39mraise\u001b[39;00m BadResponse(resp\u001b[39m.\u001b[39mdata\u001b[39m.\u001b[39mdecode(\u001b[39m\"\u001b[39m\u001b[39mutf-8\u001b[39m\u001b[39m\"\u001b[39m))\n\u001b[1;32m     95\u001b[0m \u001b[39mif\u001b[39;00m raw:\n\u001b[1;32m     96\u001b[0m     \u001b[39mreturn\u001b[39;00m resp\n",
      "\u001b[0;31mBadResponse\u001b[0m: {\"status\":\"ERROR\",\"request_id\":\"d1b5ff0e171583d0f3602b011f90a403\",\"error\":\"You've exceeded the maximum requests per minute, please wait or upgrade your subscription to continue. https://polygon.io/pricing\"}"
     ]
    }
   ],
   "source": [
    "from polygon.rest import models\n",
    "aggs = client.get_aggs(\n",
    "    \"AAPL\",\n",
    "    1,\n",
    "    \"day\",\n",
    "    \"2022-04-04\",\n",
    "    \"2022-04-04\",\n",
    ")\n",
    "print(aggs)"
   ]
  },
  {
   "cell_type": "code",
   "execution_count": null,
   "metadata": {},
   "outputs": [],
   "source": []
  }
 ],
 "metadata": {
  "kernelspec": {
   "display_name": "Python 3.10.8 64-bit",
   "language": "python",
   "name": "python3"
  },
  "language_info": {
   "codemirror_mode": {
    "name": "ipython",
    "version": 3
   },
   "file_extension": ".py",
   "mimetype": "text/x-python",
   "name": "python",
   "nbconvert_exporter": "python",
   "pygments_lexer": "ipython3",
   "version": "3.10.8"
  },
  "orig_nbformat": 4,
  "vscode": {
   "interpreter": {
    "hash": "b0fa6594d8f4cbf19f97940f81e996739fb7646882a419484c72d19e05852a7e"
   }
  }
 },
 "nbformat": 4,
 "nbformat_minor": 2
}
