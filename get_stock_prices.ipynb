{
 "cells": [
  {
   "cell_type": "markdown",
   "metadata": {},
   "source": [
    "### Get stock prices data from polygon API"
   ]
  },
  {
   "cell_type": "code",
   "execution_count": null,
   "metadata": {},
   "outputs": [],
   "source": [
    "#!pip install -r requirements.txt\n",
    "from stockify import * \n",
    "import datetime as dt "
   ]
  },
  {
   "cell_type": "code",
   "execution_count": null,
   "metadata": {},
   "outputs": [],
   "source": [
    "## To do:\n",
    "## Split the functions from the main readable file'\n",
    "## The secrets should be contained in a separ thingy\n",
    "## Raise exception if stock does not exist\n",
    "## Raise exception when calls limit is reached\n",
    "## Get dividens process and match with prices\n",
    "## Calculate the dividend price ratio\n",
    "## Get posted in slack\n",
    "## Automatize the notification: run the job on a schedule, send the notification that the job\n",
    "## has been run on a schedule, send a notifcation when the threshold is reached. \n",
    "## Get the required packages outside the main python file\n",
    "## Black formatting\n",
    "## Delte the ugly thingy when I submitt and commit the code.\n",
    "## List of stocks should be provided separately\n",
    "## Stocks in different markets are not traded on same days (any reasons: holiday, blocking, delisting,\n",
    "## maret heterogeneity...need to stretch fixed time bucket and fill to homogenify)\n",
    "## Structure as main project main.py\n",
    "## HOw to install required packaged in a repo"
   ]
  },
  {
   "cell_type": "code",
   "execution_count": null,
   "metadata": {},
   "outputs": [],
   "source": [
    "## Put the API key (if we do pay) into ENV_VARS\n",
    "current_date = dt.datetime.now().date()\n",
    "stocks_tickers = get_list_stocks_tickers('stocks_list')\n",
    "\n",
    "for st in stocks_tickers:\n",
    "    raw_response = get_p_process_by_ticker(st,\n",
    "                                           get_daily_time_buckets(max_lookback_years=4/365,\n",
    "                                                                  current_is_timestamp=False,\n",
    "                                                                  frequency='daily',\n",
    "                                                                  include_weekend=False),\n",
    "                                            stock_prices_frequency= 'daily')"
   ]
  }
 ],
 "metadata": {
  "kernelspec": {
   "display_name": "Python 3.10.8 64-bit",
   "language": "python",
   "name": "python3"
  },
  "language_info": {
   "codemirror_mode": {
    "name": "ipython",
    "version": 3
   },
   "file_extension": ".py",
   "mimetype": "text/x-python",
   "name": "python",
   "nbconvert_exporter": "python",
   "pygments_lexer": "ipython3",
   "version": "3.10.8"
  },
  "orig_nbformat": 4,
  "vscode": {
   "interpreter": {
    "hash": "b0fa6594d8f4cbf19f97940f81e996739fb7646882a419484c72d19e05852a7e"
   }
  }
 },
 "nbformat": 4,
 "nbformat_minor": 2
}
